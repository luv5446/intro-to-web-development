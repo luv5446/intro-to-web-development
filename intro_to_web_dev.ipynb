{
  "nbformat": 4,
  "nbformat_minor": 0,
  "metadata": {
    "colab": {
      "provenance": []
    },
    "kernelspec": {
      "name": "python3",
      "display_name": "Python 3"
    },
    "language_info": {
      "name": "python"
    }
  },
  "cells": [
    {
      "cell_type": "markdown",
      "source": [
        "#Intro To Web Development\n"
      ],
      "metadata": {
        "id": "rcjvm8O7bkdF"
      }
    },
    {
      "cell_type": "markdown",
      "source": [
        "▪  1. Explain the main components of client-server architecture and their functons.\n",
        "\n",
        "➡ the key components in client-server architecture are client, which requests services and interacts with the user and the server, which provides those services and manages resources with the client-server intreaction following a request-response pattern.\n",
        "\n",
        "1.  Client :\n",
        "function:   the client is the user interface or application that interacts with the user and initiates requests for services or resources from the server.\n",
        "\n",
        "2.  server :  Function : The server is a computer program that listens for and processes requests from clients, providing services and resources.\n",
        "\n",
        "\n",
        " ▪ 2 .     Career Paths After Completing a Web Development Course?\n",
        "\n",
        " > Completing a web development course opens up several career opportunities, including.\n",
        "\n",
        "\t1.\tFront-End Developer – Focuses on the visual and interactive aspects of websites using HTML, CSS, and JavaScript.\n",
        "\t2.\tBack-End Developer – Works on server-side logic, databases, and APIs using languages like Node.js, Python, PHP, or Ruby.\n",
        "\t3.\tFull-Stack Developer – Handles both front-end and back-end development.\n",
        "\t4.\tUI/UX Designer – Specializes in user interface and user experience design, often using tools like Figma or Adobe XD.\n",
        "\t5.\tWeb Application Developer – Develops web-based applications using frameworks like React, Angular, or Vue.js.\n",
        "    6.\tFreelancer/Consultant – Offers web development services independently.\n",
        "\t7.\tDevOps Engineer – Manages deployment, CI/CD pipelines, and cloud-based services.\n",
        "\t8.\tMobile Web Developer – Focuses on optimizing web applications for mobile responsiveness and performance.\n",
        "\n",
        "\n",
        "▪ 3.  Describe the role of a web browser's developer tools in web development?\n",
        "\n",
        "➡  Web browser developer tools (DevTools) are built-in features in modern web browsers (like Chrome, Firefox, Edge) that help developers inspect, debug, and optimize websites and web applications. These tools are essential for efficient front-end and back-end development.\n",
        "\n",
        " ▪ 4. What are the advantages of using a Version Control System like Git in a development project?\n",
        "\n",
        " ➡\n",
        "A Version Control System (VCS) like Git is essential for managing code efficiently, enabling collaboration, and tracking changes in a development project.\n",
        "\n",
        "▪ 5.  Compare and contrast a text editor and an IDE, highlighting their key features and uses.\n",
        "\n",
        "➡ A text editor and an IDE are both tools used for writing code, but they serve different purposes and offer different levels of functionality.\n",
        "\n",
        "\n",
        "\t•\tText Editor: A lightweight application designed for simple text editing, often with basic coding features.\n",
        "\t•\tIDE (Integrated Development Environment): A full-featured software suite that includes a text editor, compiler, debugger, and other development tools.\n",
        "  "
      ],
      "metadata": {
        "id": "F8MgS45x8pw7"
      }
    }
  ]
}